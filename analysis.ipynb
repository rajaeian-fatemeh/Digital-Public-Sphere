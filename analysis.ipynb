{
 "cells": [
  {
   "cell_type": "code",
   "execution_count": 21,
   "metadata": {
    "vscode": {
     "languageId": "quarto"
    }
   },
   "outputs": [
    {
     "name": "stdout",
     "output_type": "stream",
     "text": [
      "                                                 All\n",
      "0             Title: I can’t remember if I was raped\n",
      "1  Post body: I think I was raped but I don’t kno...\n",
      "2                                     Comment: sorry\n",
      "3          Title: Probably the worst person I've met\n",
      "4  Post body: I (Younger than 16) was in a relati...\n",
      "                                Title  \\\n",
      "0     I can’t remember if I was raped   \n",
      "1  Probably the worst person I've met   \n",
      "2  Probably the worst person I've met   \n",
      "3  Probably the worst person I've met   \n",
      "4  Probably the worst person I've met   \n",
      "\n",
      "                                           Post Body  \\\n",
      "0  I think I was raped but I don’t know I think I...   \n",
      "1  I (Younger than 16) was in a relationship with...   \n",
      "2  I (Younger than 16) was in a relationship with...   \n",
      "3  I (Younger than 16) was in a relationship with...   \n",
      "4  I (Younger than 16) was in a relationship with...   \n",
      "\n",
      "                                             Comment  \n",
      "0                                              sorry  \n",
      "1  A lot to unpack. It sounds like you at least k...  \n",
      "2  Highly recommend breaking your writing into mu...  \n",
      "3  Thank you for that, my friends suggested I tak...  \n",
      "4  Remember that the best revenge is a life well ...  \n"
     ]
    },
    {
     "name": "stderr",
     "output_type": "stream",
     "text": [
      "<ipython-input-21-c5ba86ff7ebb>:30: FutureWarning: Series.__getitem__ treating keys as positions is deprecated. In a future version, integer keys will always be treated as labels (consistent with DataFrame behavior). To access a value by position, use `ser.iloc[pos]`\n",
      "  if 'Title:' in str(row[0]):\n",
      "<ipython-input-21-c5ba86ff7ebb>:37: FutureWarning: Series.__getitem__ treating keys as positions is deprecated. In a future version, integer keys will always be treated as labels (consistent with DataFrame behavior). To access a value by position, use `ser.iloc[pos]`\n",
      "  current_title = row[0].split('Title:')[1].strip()\n",
      "<ipython-input-21-c5ba86ff7ebb>:41: FutureWarning: Series.__getitem__ treating keys as positions is deprecated. In a future version, integer keys will always be treated as labels (consistent with DataFrame behavior). To access a value by position, use `ser.iloc[pos]`\n",
      "  elif 'Post body:' in str(row[0]):\n",
      "<ipython-input-21-c5ba86ff7ebb>:43: FutureWarning: Series.__getitem__ treating keys as positions is deprecated. In a future version, integer keys will always be treated as labels (consistent with DataFrame behavior). To access a value by position, use `ser.iloc[pos]`\n",
      "  current_post_body = row[0].split('Post body:')[1].strip()\n",
      "<ipython-input-21-c5ba86ff7ebb>:45: FutureWarning: Series.__getitem__ treating keys as positions is deprecated. In a future version, integer keys will always be treated as labels (consistent with DataFrame behavior). To access a value by position, use `ser.iloc[pos]`\n",
      "  elif 'Comment:' in str(row[0]):\n",
      "<ipython-input-21-c5ba86ff7ebb>:47: FutureWarning: Series.__getitem__ treating keys as positions is deprecated. In a future version, integer keys will always be treated as labels (consistent with DataFrame behavior). To access a value by position, use `ser.iloc[pos]`\n",
      "  current_comment = row[0].split('Comment:')[1].strip()\n"
     ]
    },
    {
     "data": {
      "text/plain": [
       "(243, 1)"
      ]
     },
     "execution_count": 21,
     "metadata": {},
     "output_type": "execute_result"
    }
   ],
   "source": [
    "import pandas as pd\n",
    "\n",
    "# Read the Excel file\n",
    "df = pd.read_excel('E:\\\\Data Science for Society and Business\\\\2 Semester\\\\Digital Public Spheres\\\\METO.xlsx', sheet_name=1)\n",
    "\n",
    "\n",
    "\n",
    "# Inspect the DataFrame\n",
    "print(df.head())\n",
    "\n",
    "\n",
    "\n",
    "import pandas as pd\n",
    "\n",
    "\n",
    "\n",
    "# Create lists to store data\n",
    "titles = []\n",
    "post_bodies = []\n",
    "comments = []\n",
    "\n",
    "# Initialize variables to keep track of current title, post body, and comment\n",
    "current_title = ''\n",
    "current_post_body = ''\n",
    "current_comment = ''\n",
    "\n",
    "# Iterate through each row in the DataFrame\n",
    "for index, row in df.iterrows():\n",
    "    # Check if the row contains a title\n",
    "    if 'Title:' in str(row[0]):\n",
    "        # If it does, update current title and append previous data to lists\n",
    "        if current_title:\n",
    "            titles.append(current_title.strip())\n",
    "            post_bodies.append(current_post_body.strip())\n",
    "            comments.append(current_comment.strip())\n",
    "        # Extract title from the row\n",
    "        current_title = row[0].split('Title:')[1].strip()\n",
    "        current_post_body = ''  # Reset post body\n",
    "        current_comment = ''  # Reset comment\n",
    "    # Check if the row contains a post body\n",
    "    elif 'Post body:' in str(row[0]):\n",
    "        # Extract post body from the row\n",
    "        current_post_body = row[0].split('Post body:')[1].strip()\n",
    "    # Check if the row contains a comment\n",
    "    elif 'Comment:' in str(row[0]):\n",
    "        # Extract comment from the row\n",
    "        current_comment = row[0].split('Comment:')[1].strip()\n",
    "\n",
    "# Append the last set of data to lists\n",
    "titles.append(current_title.strip())\n",
    "post_bodies.append(current_post_body.strip())\n",
    "comments.append(current_comment.strip())\n",
    "\n",
    "# Create a new DataFrame from the lists\n",
    "new_df = pd.DataFrame({'Title': titles, 'Post Body': post_bodies, 'Comment': comments})\n",
    "\n",
    "# Print the new DataFrame\n",
    "print(new_df.head())\n",
    "\n",
    "\n",
    "\n",
    "df.shape"
   ]
  },
  {
   "cell_type": "code",
   "execution_count": 22,
   "metadata": {
    "vscode": {
     "languageId": "quarto"
    }
   },
   "outputs": [
    {
     "name": "stdout",
     "output_type": "stream",
     "text": [
      "         Title                                          Post Body  \\\n",
      "level_0                                                             \n",
      "0          NaN                                                NaN   \n",
      "1          NaN  I think I was raped but I don’t know I think I...   \n",
      "2        sorry                                                NaN   \n",
      "3          NaN                                                NaN   \n",
      "4          NaN  I (Younger than 16) was in a relationship with...   \n",
      "\n",
      "                                    Comment  \n",
      "level_0                                      \n",
      "0           I can’t remember if I was raped  \n",
      "1                                       NaN  \n",
      "2                                       NaN  \n",
      "3        Probably the worst person I've met  \n",
      "4                                       NaN  \n"
     ]
    }
   ],
   "source": [
    "import pandas as pd\n",
    "\n",
    "# Assuming df is your DataFrame with one column containing the combined text\n",
    "# Replace 'your_column' with the name of your existing column\n",
    "# Extract information using regular expressions\n",
    "split_data = df['All'].str.extractall(r'(Title:|Post body:|Comment:)\\s?(.*)')\n",
    "\n",
    "# Pivot the extracted data to reshape it\n",
    "reshaped_data = split_data.reset_index().pivot(index='level_0', columns=0, values=1)\n",
    "\n",
    "# Rename the columns\n",
    "reshaped_data.columns = ['Title', 'Post Body', 'Comment']\n",
    "\n",
    "# Print the new DataFrame\n",
    "print(reshaped_data.head())"
   ]
  },
  {
   "cell_type": "code",
   "execution_count": 23,
   "metadata": {
    "vscode": {
     "languageId": "quarto"
    }
   },
   "outputs": [
    {
     "data": {
      "text/plain": [
       "(243, 1)"
      ]
     },
     "execution_count": 23,
     "metadata": {},
     "output_type": "execute_result"
    }
   ],
   "source": [
    "df.shape"
   ]
  },
  {
   "cell_type": "code",
   "execution_count": 24,
   "metadata": {
    "vscode": {
     "languageId": "quarto"
    }
   },
   "outputs": [
    {
     "name": "stdout",
     "output_type": "stream",
     "text": [
      "                                Title  \\\n",
      "0     I can’t remember if I was raped   \n",
      "1                                None   \n",
      "2                                None   \n",
      "3  Probably the worst person I've met   \n",
      "4                                None   \n",
      "\n",
      "                                           Post Body Comment  \n",
      "0                                               None    None  \n",
      "1  I think I was raped but I don’t know I think I...    None  \n",
      "2                                               None   sorry  \n",
      "3                                               None    None  \n",
      "4  I (Younger than 16) was in a relationship with...    None  \n"
     ]
    }
   ],
   "source": [
    "import pandas as pd\n",
    "\n",
    "# Assuming df is your DataFrame with one column containing the combined text\n",
    "# Replace 'your_column' with the name of your existing column\n",
    "# Extract information using regular expressions\n",
    "split_data = df['All'].str.findall(r'(Title:|Post body:|Comment:)\\s?(.*)')\n",
    "\n",
    "# Create lists to store data\n",
    "titles = []\n",
    "post_bodies = []\n",
    "comments = []\n",
    "\n",
    "# Iterate through each row in the split data\n",
    "for row in split_data:\n",
    "    # Initialize variables for title, post body, and comment\n",
    "    title = None\n",
    "    post_body = None\n",
    "    comment = None\n",
    "    # Extract information from each tuple in the row\n",
    "    for item in row:\n",
    "        label, content = item\n",
    "        if label == 'Title:':\n",
    "            title = content.strip()\n",
    "        elif label == 'Post body:':\n",
    "            post_body = content.strip()\n",
    "        elif label == 'Comment:':\n",
    "            comment = content.strip()\n",
    "    # Append extracted information to lists\n",
    "    titles.append(title)\n",
    "    post_bodies.append(post_body)\n",
    "    comments.append(comment)\n",
    "\n",
    "# Create a new DataFrame from the lists\n",
    "new_df = pd.DataFrame({'Title': titles, 'Post Body': post_bodies, 'Comment': comments})\n",
    "\n",
    "# Print the new DataFrame\n",
    "print(new_df.head())"
   ]
  },
  {
   "cell_type": "code",
   "execution_count": 25,
   "metadata": {
    "vscode": {
     "languageId": "quarto"
    }
   },
   "outputs": [
    {
     "data": {
      "text/plain": [
       "(243, 1)"
      ]
     },
     "execution_count": 25,
     "metadata": {},
     "output_type": "execute_result"
    }
   ],
   "source": [
    "df.shape"
   ]
  },
  {
   "cell_type": "code",
   "execution_count": 26,
   "metadata": {
    "vscode": {
     "languageId": "quarto"
    }
   },
   "outputs": [
    {
     "ename": "ModuleNotFoundError",
     "evalue": "No module named 'textblob'",
     "output_type": "error",
     "traceback": [
      "\u001b[1;31m---------------------------------------------------------------------------\u001b[0m",
      "\u001b[1;31mModuleNotFoundError\u001b[0m                       Traceback (most recent call last)",
      "File \u001b[1;32mUntitled-1:1\u001b[0m\n\u001b[1;32m----> 1\u001b[0m \u001b[39mfrom\u001b[39;00m \u001b[39mtextblob\u001b[39;00m \u001b[39mimport\u001b[39;00m TextBlob\n\u001b[0;32m      2\u001b[0m \u001b[39mimport\u001b[39;00m \u001b[39mpandas\u001b[39;00m \u001b[39mas\u001b[39;00m \u001b[39mpd\u001b[39;00m\n\u001b[0;32m      4\u001b[0m \u001b[39m# Assuming df is your DataFrame with one column containing text data\u001b[39;00m\n\u001b[0;32m      5\u001b[0m \u001b[39m# Replace 'your_column' with the name of your existing column\u001b[39;00m\n\u001b[0;32m      6\u001b[0m \u001b[39m# Calculate sentiment scores for the comments\u001b[39;00m\n",
      "\u001b[1;31mModuleNotFoundError\u001b[0m: No module named 'textblob'"
     ]
    }
   ],
   "source": [
    "from textblob import TextBlob\n",
    "import pandas as pd\n",
    "\n",
    "# Assuming df is your DataFrame with one column containing text data\n",
    "# Replace 'your_column' with the name of your existing column\n",
    "# Calculate sentiment scores for the comments\n",
    "sentiment_scores = df.apply(lambda row: TextBlob(str(row['Comment'])).sentiment.polarity, axis=1)\n",
    "\n",
    "# Create a new DataFrame with sentiment scores\n",
    "sentiment_df = pd.DataFrame({'Sentiment Score': sentiment_scores})\n",
    "\n",
    "# Print the new DataFrame\n",
    "print(sentiment_df.head())"
   ]
  },
  {
   "cell_type": "code",
   "execution_count": 27,
   "metadata": {
    "vscode": {
     "languageId": "quarto"
    }
   },
   "outputs": [
    {
     "name": "stdout",
     "output_type": "stream",
     "text": [
      "Collecting textblob\n",
      "  Obtaining dependency information for textblob from https://files.pythonhosted.org/packages/02/07/5fd2945356dd839974d3a25de8a142dc37293c21315729a41e775b5f3569/textblob-0.18.0.post0-py3-none-any.whl.metadata\n",
      "  Downloading textblob-0.18.0.post0-py3-none-any.whl.metadata (4.5 kB)\n",
      "Requirement already satisfied: nltk>=3.8 in c:\\users\\fati\\appdata\\local\\programs\\python\\python311\\lib\\site-packages (from textblob) (3.8.1)\n",
      "Requirement already satisfied: click in c:\\users\\fati\\appdata\\local\\programs\\python\\python311\\lib\\site-packages (from nltk>=3.8->textblob) (8.1.7)\n",
      "Requirement already satisfied: joblib in c:\\users\\fati\\appdata\\local\\programs\\python\\python311\\lib\\site-packages (from nltk>=3.8->textblob) (1.3.2)\n",
      "Requirement already satisfied: regex>=2021.8.3 in c:\\users\\fati\\appdata\\local\\programs\\python\\python311\\lib\\site-packages (from nltk>=3.8->textblob) (2023.12.25)\n",
      "Requirement already satisfied: tqdm in c:\\users\\fati\\appdata\\local\\programs\\python\\python311\\lib\\site-packages (from nltk>=3.8->textblob) (4.66.2)\n",
      "Requirement already satisfied: colorama in c:\\users\\fati\\appdata\\local\\programs\\python\\python311\\lib\\site-packages (from click->nltk>=3.8->textblob) (0.4.6)\n",
      "Downloading textblob-0.18.0.post0-py3-none-any.whl (626 kB)\n",
      "   ---------------------------------------- 0.0/626.3 kB ? eta -:--:--\n",
      "    --------------------------------------- 10.2/626.3 kB ? eta -:--:--\n",
      "    --------------------------------------- 10.2/626.3 kB ? eta -:--:--\n",
      "   --- ----------------------------------- 61.4/626.3 kB 469.7 kB/s eta 0:00:02\n",
      "   ------------ --------------------------- 194.6/626.3 kB 1.2 MB/s eta 0:00:01\n",
      "   -------------------- ------------------- 317.4/626.3 kB 1.5 MB/s eta 0:00:01\n",
      "   -------------------------------- ------- 501.8/626.3 kB 1.9 MB/s eta 0:00:01\n",
      "   ---------------------------------------  624.6/626.3 kB 2.1 MB/s eta 0:00:01\n",
      "   ---------------------------------------  624.6/626.3 kB 2.1 MB/s eta 0:00:01\n",
      "   ---------------------------------------- 626.3/626.3 kB 1.6 MB/s eta 0:00:00\n",
      "Installing collected packages: textblob\n",
      "Successfully installed textblob-0.18.0.post0\n",
      "Note: you may need to restart the kernel to use updated packages.\n"
     ]
    },
    {
     "name": "stderr",
     "output_type": "stream",
     "text": [
      "\n",
      "[notice] A new release of pip is available: 23.2.1 -> 24.0\n",
      "[notice] To update, run: python.exe -m pip install --upgrade pip\n"
     ]
    }
   ],
   "source": [
    "pip install textblob"
   ]
  },
  {
   "cell_type": "code",
   "execution_count": 28,
   "metadata": {
    "vscode": {
     "languageId": "quarto"
    }
   },
   "outputs": [
    {
     "ename": "KeyError",
     "evalue": "'Comment'",
     "output_type": "error",
     "traceback": [
      "\u001b[1;31m---------------------------------------------------------------------------\u001b[0m",
      "\u001b[1;31mKeyError\u001b[0m                                  Traceback (most recent call last)",
      "File \u001b[1;32mc:\\Users\\Fati\\AppData\\Local\\Programs\\Python\\Python311\\Lib\\site-packages\\pandas\\core\\indexes\\base.py:3790\u001b[0m, in \u001b[0;36mIndex.get_loc\u001b[1;34m(self, key)\u001b[0m\n\u001b[0;32m   3789\u001b[0m \u001b[39mtry\u001b[39;00m:\n\u001b[1;32m-> 3790\u001b[0m     \u001b[39mreturn\u001b[39;00m \u001b[39mself\u001b[39;49m\u001b[39m.\u001b[39;49m_engine\u001b[39m.\u001b[39;49mget_loc(casted_key)\n\u001b[0;32m   3791\u001b[0m \u001b[39mexcept\u001b[39;00m \u001b[39mKeyError\u001b[39;00m \u001b[39mas\u001b[39;00m err:\n",
      "File \u001b[1;32mindex.pyx:152\u001b[0m, in \u001b[0;36mpandas._libs.index.IndexEngine.get_loc\u001b[1;34m()\u001b[0m\n",
      "File \u001b[1;32mindex.pyx:181\u001b[0m, in \u001b[0;36mpandas._libs.index.IndexEngine.get_loc\u001b[1;34m()\u001b[0m\n",
      "File \u001b[1;32mpandas\\_libs\\hashtable_class_helper.pxi:7080\u001b[0m, in \u001b[0;36mpandas._libs.hashtable.PyObjectHashTable.get_item\u001b[1;34m()\u001b[0m\n",
      "File \u001b[1;32mpandas\\_libs\\hashtable_class_helper.pxi:7088\u001b[0m, in \u001b[0;36mpandas._libs.hashtable.PyObjectHashTable.get_item\u001b[1;34m()\u001b[0m\n",
      "\u001b[1;31mKeyError\u001b[0m: 'Comment'",
      "\nThe above exception was the direct cause of the following exception:\n",
      "\u001b[1;31mKeyError\u001b[0m                                  Traceback (most recent call last)",
      "File \u001b[1;32mUntitled-1:7\u001b[0m\n\u001b[0;32m      2\u001b[0m \u001b[39mimport\u001b[39;00m \u001b[39mpandas\u001b[39;00m \u001b[39mas\u001b[39;00m \u001b[39mpd\u001b[39;00m\n\u001b[0;32m      4\u001b[0m \u001b[39m# Assuming df is your DataFrame with one column containing text data\u001b[39;00m\n\u001b[0;32m      5\u001b[0m \u001b[39m# Replace 'your_column' with the name of your existing column\u001b[39;00m\n\u001b[0;32m      6\u001b[0m \u001b[39m# Calculate sentiment scores for the comments\u001b[39;00m\n\u001b[1;32m----> 7\u001b[0m sentiment_scores \u001b[39m=\u001b[39m df\u001b[39m.\u001b[39;49mapply(\u001b[39mlambda\u001b[39;49;00m row: TextBlob(\u001b[39mstr\u001b[39;49m(row[\u001b[39m'\u001b[39;49m\u001b[39mComment\u001b[39;49m\u001b[39m'\u001b[39;49m]))\u001b[39m.\u001b[39;49msentiment\u001b[39m.\u001b[39;49mpolarity, axis\u001b[39m=\u001b[39;49m\u001b[39m1\u001b[39;49m)\n\u001b[0;32m      9\u001b[0m \u001b[39m# Create a new DataFrame with sentiment scores\u001b[39;00m\n\u001b[0;32m     10\u001b[0m sentiment_df \u001b[39m=\u001b[39m pd\u001b[39m.\u001b[39mDataFrame({\u001b[39m'\u001b[39m\u001b[39mSentiment Score\u001b[39m\u001b[39m'\u001b[39m: sentiment_scores})\n",
      "File \u001b[1;32mc:\\Users\\Fati\\AppData\\Local\\Programs\\Python\\Python311\\Lib\\site-packages\\pandas\\core\\frame.py:10037\u001b[0m, in \u001b[0;36mDataFrame.apply\u001b[1;34m(self, func, axis, raw, result_type, args, by_row, **kwargs)\u001b[0m\n\u001b[0;32m  10025\u001b[0m \u001b[39mfrom\u001b[39;00m \u001b[39mpandas\u001b[39;00m\u001b[39m.\u001b[39;00m\u001b[39mcore\u001b[39;00m\u001b[39m.\u001b[39;00m\u001b[39mapply\u001b[39;00m \u001b[39mimport\u001b[39;00m frame_apply\n\u001b[0;32m  10027\u001b[0m op \u001b[39m=\u001b[39m frame_apply(\n\u001b[0;32m  10028\u001b[0m     \u001b[39mself\u001b[39m,\n\u001b[0;32m  10029\u001b[0m     func\u001b[39m=\u001b[39mfunc,\n\u001b[1;32m   (...)\u001b[0m\n\u001b[0;32m  10035\u001b[0m     kwargs\u001b[39m=\u001b[39mkwargs,\n\u001b[0;32m  10036\u001b[0m )\n\u001b[1;32m> 10037\u001b[0m \u001b[39mreturn\u001b[39;00m op\u001b[39m.\u001b[39;49mapply()\u001b[39m.\u001b[39m__finalize__(\u001b[39mself\u001b[39m, method\u001b[39m=\u001b[39m\u001b[39m\"\u001b[39m\u001b[39mapply\u001b[39m\u001b[39m\"\u001b[39m)\n",
      "File \u001b[1;32mc:\\Users\\Fati\\AppData\\Local\\Programs\\Python\\Python311\\Lib\\site-packages\\pandas\\core\\apply.py:831\u001b[0m, in \u001b[0;36mFrameApply.apply\u001b[1;34m(self)\u001b[0m\n\u001b[0;32m    828\u001b[0m \u001b[39melif\u001b[39;00m \u001b[39mself\u001b[39m\u001b[39m.\u001b[39mraw:\n\u001b[0;32m    829\u001b[0m     \u001b[39mreturn\u001b[39;00m \u001b[39mself\u001b[39m\u001b[39m.\u001b[39mapply_raw()\n\u001b[1;32m--> 831\u001b[0m \u001b[39mreturn\u001b[39;00m \u001b[39mself\u001b[39;49m\u001b[39m.\u001b[39;49mapply_standard()\n",
      "File \u001b[1;32mc:\\Users\\Fati\\AppData\\Local\\Programs\\Python\\Python311\\Lib\\site-packages\\pandas\\core\\apply.py:957\u001b[0m, in \u001b[0;36mFrameApply.apply_standard\u001b[1;34m(self)\u001b[0m\n\u001b[0;32m    956\u001b[0m \u001b[39mdef\u001b[39;00m \u001b[39mapply_standard\u001b[39m(\u001b[39mself\u001b[39m):\n\u001b[1;32m--> 957\u001b[0m     results, res_index \u001b[39m=\u001b[39m \u001b[39mself\u001b[39;49m\u001b[39m.\u001b[39;49mapply_series_generator()\n\u001b[0;32m    959\u001b[0m     \u001b[39m# wrap results\u001b[39;00m\n\u001b[0;32m    960\u001b[0m     \u001b[39mreturn\u001b[39;00m \u001b[39mself\u001b[39m\u001b[39m.\u001b[39mwrap_results(results, res_index)\n",
      "File \u001b[1;32mc:\\Users\\Fati\\AppData\\Local\\Programs\\Python\\Python311\\Lib\\site-packages\\pandas\\core\\apply.py:973\u001b[0m, in \u001b[0;36mFrameApply.apply_series_generator\u001b[1;34m(self)\u001b[0m\n\u001b[0;32m    970\u001b[0m \u001b[39mwith\u001b[39;00m option_context(\u001b[39m\"\u001b[39m\u001b[39mmode.chained_assignment\u001b[39m\u001b[39m\"\u001b[39m, \u001b[39mNone\u001b[39;00m):\n\u001b[0;32m    971\u001b[0m     \u001b[39mfor\u001b[39;00m i, v \u001b[39min\u001b[39;00m \u001b[39menumerate\u001b[39m(series_gen):\n\u001b[0;32m    972\u001b[0m         \u001b[39m# ignore SettingWithCopy here in case the user mutates\u001b[39;00m\n\u001b[1;32m--> 973\u001b[0m         results[i] \u001b[39m=\u001b[39m \u001b[39mself\u001b[39;49m\u001b[39m.\u001b[39;49mfunc(v, \u001b[39m*\u001b[39;49m\u001b[39mself\u001b[39;49m\u001b[39m.\u001b[39;49margs, \u001b[39m*\u001b[39;49m\u001b[39m*\u001b[39;49m\u001b[39mself\u001b[39;49m\u001b[39m.\u001b[39;49mkwargs)\n\u001b[0;32m    974\u001b[0m         \u001b[39mif\u001b[39;00m \u001b[39misinstance\u001b[39m(results[i], ABCSeries):\n\u001b[0;32m    975\u001b[0m             \u001b[39m# If we have a view on v, we need to make a copy because\u001b[39;00m\n\u001b[0;32m    976\u001b[0m             \u001b[39m#  series_generator will swap out the underlying data\u001b[39;00m\n\u001b[0;32m    977\u001b[0m             results[i] \u001b[39m=\u001b[39m results[i]\u001b[39m.\u001b[39mcopy(deep\u001b[39m=\u001b[39m\u001b[39mFalse\u001b[39;00m)\n",
      "File \u001b[1;32mUntitled-1:7\u001b[0m\n\u001b[0;32m      2\u001b[0m \u001b[39mimport\u001b[39;00m \u001b[39mpandas\u001b[39;00m \u001b[39mas\u001b[39;00m \u001b[39mpd\u001b[39;00m\n\u001b[0;32m      4\u001b[0m \u001b[39m# Assuming df is your DataFrame with one column containing text data\u001b[39;00m\n\u001b[0;32m      5\u001b[0m \u001b[39m# Replace 'your_column' with the name of your existing column\u001b[39;00m\n\u001b[0;32m      6\u001b[0m \u001b[39m# Calculate sentiment scores for the comments\u001b[39;00m\n\u001b[1;32m----> 7\u001b[0m sentiment_scores \u001b[39m=\u001b[39m df\u001b[39m.\u001b[39mapply(\u001b[39mlambda\u001b[39;00m row: TextBlob(\u001b[39mstr\u001b[39m(row[\u001b[39m'\u001b[39;49m\u001b[39mComment\u001b[39;49m\u001b[39m'\u001b[39;49m]))\u001b[39m.\u001b[39msentiment\u001b[39m.\u001b[39mpolarity, axis\u001b[39m=\u001b[39m\u001b[39m1\u001b[39m)\n\u001b[0;32m      9\u001b[0m \u001b[39m# Create a new DataFrame with sentiment scores\u001b[39;00m\n\u001b[0;32m     10\u001b[0m sentiment_df \u001b[39m=\u001b[39m pd\u001b[39m.\u001b[39mDataFrame({\u001b[39m'\u001b[39m\u001b[39mSentiment Score\u001b[39m\u001b[39m'\u001b[39m: sentiment_scores})\n",
      "File \u001b[1;32mc:\\Users\\Fati\\AppData\\Local\\Programs\\Python\\Python311\\Lib\\site-packages\\pandas\\core\\series.py:1040\u001b[0m, in \u001b[0;36mSeries.__getitem__\u001b[1;34m(self, key)\u001b[0m\n\u001b[0;32m   1037\u001b[0m     \u001b[39mreturn\u001b[39;00m \u001b[39mself\u001b[39m\u001b[39m.\u001b[39m_values[key]\n\u001b[0;32m   1039\u001b[0m \u001b[39melif\u001b[39;00m key_is_scalar:\n\u001b[1;32m-> 1040\u001b[0m     \u001b[39mreturn\u001b[39;00m \u001b[39mself\u001b[39;49m\u001b[39m.\u001b[39;49m_get_value(key)\n\u001b[0;32m   1042\u001b[0m \u001b[39m# Convert generator to list before going through hashable part\u001b[39;00m\n\u001b[0;32m   1043\u001b[0m \u001b[39m# (We will iterate through the generator there to check for slices)\u001b[39;00m\n\u001b[0;32m   1044\u001b[0m \u001b[39mif\u001b[39;00m is_iterator(key):\n",
      "File \u001b[1;32mc:\\Users\\Fati\\AppData\\Local\\Programs\\Python\\Python311\\Lib\\site-packages\\pandas\\core\\series.py:1156\u001b[0m, in \u001b[0;36mSeries._get_value\u001b[1;34m(self, label, takeable)\u001b[0m\n\u001b[0;32m   1153\u001b[0m     \u001b[39mreturn\u001b[39;00m \u001b[39mself\u001b[39m\u001b[39m.\u001b[39m_values[label]\n\u001b[0;32m   1155\u001b[0m \u001b[39m# Similar to Index.get_value, but we do not fall back to positional\u001b[39;00m\n\u001b[1;32m-> 1156\u001b[0m loc \u001b[39m=\u001b[39m \u001b[39mself\u001b[39;49m\u001b[39m.\u001b[39;49mindex\u001b[39m.\u001b[39;49mget_loc(label)\n\u001b[0;32m   1158\u001b[0m \u001b[39mif\u001b[39;00m is_integer(loc):\n\u001b[0;32m   1159\u001b[0m     \u001b[39mreturn\u001b[39;00m \u001b[39mself\u001b[39m\u001b[39m.\u001b[39m_values[loc]\n",
      "File \u001b[1;32mc:\\Users\\Fati\\AppData\\Local\\Programs\\Python\\Python311\\Lib\\site-packages\\pandas\\core\\indexes\\base.py:3797\u001b[0m, in \u001b[0;36mIndex.get_loc\u001b[1;34m(self, key)\u001b[0m\n\u001b[0;32m   3792\u001b[0m     \u001b[39mif\u001b[39;00m \u001b[39misinstance\u001b[39m(casted_key, \u001b[39mslice\u001b[39m) \u001b[39mor\u001b[39;00m (\n\u001b[0;32m   3793\u001b[0m         \u001b[39misinstance\u001b[39m(casted_key, abc\u001b[39m.\u001b[39mIterable)\n\u001b[0;32m   3794\u001b[0m         \u001b[39mand\u001b[39;00m \u001b[39many\u001b[39m(\u001b[39misinstance\u001b[39m(x, \u001b[39mslice\u001b[39m) \u001b[39mfor\u001b[39;00m x \u001b[39min\u001b[39;00m casted_key)\n\u001b[0;32m   3795\u001b[0m     ):\n\u001b[0;32m   3796\u001b[0m         \u001b[39mraise\u001b[39;00m InvalidIndexError(key)\n\u001b[1;32m-> 3797\u001b[0m     \u001b[39mraise\u001b[39;00m \u001b[39mKeyError\u001b[39;00m(key) \u001b[39mfrom\u001b[39;00m \u001b[39merr\u001b[39;00m\n\u001b[0;32m   3798\u001b[0m \u001b[39mexcept\u001b[39;00m \u001b[39mTypeError\u001b[39;00m:\n\u001b[0;32m   3799\u001b[0m     \u001b[39m# If we have a listlike key, _check_indexing_error will raise\u001b[39;00m\n\u001b[0;32m   3800\u001b[0m     \u001b[39m#  InvalidIndexError. Otherwise we fall through and re-raise\u001b[39;00m\n\u001b[0;32m   3801\u001b[0m     \u001b[39m#  the TypeError.\u001b[39;00m\n\u001b[0;32m   3802\u001b[0m     \u001b[39mself\u001b[39m\u001b[39m.\u001b[39m_check_indexing_error(key)\n",
      "\u001b[1;31mKeyError\u001b[0m: 'Comment'"
     ]
    }
   ],
   "source": [
    "from textblob import TextBlob\n",
    "import pandas as pd\n",
    "\n",
    "# Assuming df is your DataFrame with one column containing text data\n",
    "# Replace 'your_column' with the name of your existing column\n",
    "# Calculate sentiment scores for the comments\n",
    "sentiment_scores = df.apply(lambda row: TextBlob(str(row['Comment'])).sentiment.polarity, axis=1)\n",
    "\n",
    "# Create a new DataFrame with sentiment scores\n",
    "sentiment_df = pd.DataFrame({'Sentiment Score': sentiment_scores})\n",
    "\n",
    "# Print the new DataFrame\n",
    "print(sentiment_df.head())"
   ]
  },
  {
   "cell_type": "code",
   "execution_count": 29,
   "metadata": {
    "vscode": {
     "languageId": "quarto"
    }
   },
   "outputs": [
    {
     "name": "stdout",
     "output_type": "stream",
     "text": [
      "   Sentiment Score\n",
      "2        -0.500000\n",
      "4        -0.006761\n",
      "5         0.018216\n",
      "7        -0.006761\n",
      "8         0.165000\n"
     ]
    }
   ],
   "source": [
    "from textblob import TextBlob\n",
    "import pandas as pd\n",
    "\n",
    "# Assuming df is your DataFrame with multiple rows containing text data\n",
    "# Replace 'your_column' with the name of your existing column\n",
    "# Filter the DataFrame to include only rows with \"Comment\" in them\n",
    "comment_rows = df[df['All'].str.contains('Comment', case=False)]\n",
    "\n",
    "# Calculate sentiment scores for the comments\n",
    "sentiment_scores = comment_rows['All'].apply(lambda x: TextBlob(str(x)).sentiment.polarity)\n",
    "\n",
    "# Create a new DataFrame with sentiment scores\n",
    "sentiment_df = pd.DataFrame({'Sentiment Score': sentiment_scores})\n",
    "\n",
    "# Print the new DataFrame\n",
    "print(sentiment_df.head())"
   ]
  },
  {
   "cell_type": "code",
   "execution_count": 30,
   "metadata": {
    "vscode": {
     "languageId": "quarto"
    }
   },
   "outputs": [
    {
     "name": "stdout",
     "output_type": "stream",
     "text": [
      "    Sentiment Score\n",
      "1         -0.085078\n",
      "4         -0.006761\n",
      "7         -0.006761\n",
      "10        -0.006761\n",
      "13        -0.006761\n"
     ]
    }
   ],
   "source": [
    "#Sentiment analysis on Post body\n",
    "from textblob import TextBlob\n",
    "import pandas as pd\n",
    "\n",
    "# Assuming df is your DataFrame with multiple rows containing text data\n",
    "# Replace 'your_column' with the name of your existing column\n",
    "# Filter the DataFrame to include only rows with \"Comment\" in them\n",
    "comment_rows = df[df['All'].str.contains('Post body', case=False)]\n",
    "\n",
    "# Calculate sentiment scores for the comments\n",
    "sentiment_scores = comment_rows['All'].apply(lambda x: TextBlob(str(x)).sentiment.polarity)\n",
    "\n",
    "# Create a new DataFrame with sentiment scores\n",
    "sentiment_df = pd.DataFrame({'Sentiment Score': sentiment_scores})\n",
    "\n",
    "# Print the new DataFrame\n",
    "print(sentiment_df.head())"
   ]
  }
 ],
 "metadata": {
  "kernelspec": {
   "display_name": "Python 3",
   "language": "python",
   "name": "python3"
  },
  "language_info": {
   "name": "python",
   "version": "3.11.5"
  }
 },
 "nbformat": 4,
 "nbformat_minor": 2
}
